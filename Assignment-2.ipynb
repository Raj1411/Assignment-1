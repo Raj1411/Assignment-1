{
 "cells": [
  {
   "cell_type": "code",
   "execution_count": 11,
   "metadata": {},
   "outputs": [
    {
     "data": {
      "text/plain": [
       "True"
      ]
     },
     "execution_count": 11,
     "metadata": {},
     "output_type": "execute_result"
    }
   ],
   "source": [
    "# Task 2, Asnwer 2.2............\n",
    "\n",
    "\n",
    "def is_vowel(output):\n",
    "    for i in output:\n",
    "        if i == 'a' or i=='e' or i=='i' or i=='o' or i=='u':\n",
    "            return True\n",
    "    else:\n",
    "        return False\n",
    "    \n",
    "    \n",
    "is_vowel('a')"
   ]
  },
  {
   "cell_type": "code",
   "execution_count": 10,
   "metadata": {},
   "outputs": [
    {
     "data": {
      "text/plain": [
       "[2, 3, 4]"
      ]
     },
     "execution_count": 10,
     "metadata": {},
     "output_type": "execute_result"
    }
   ],
   "source": [
    "# Task 2, Answer 2.1..........\n",
    "\n",
    "def sumof_list_index(a):\n",
    "    ab=[]\n",
    "    for i in a:\n",
    "        ab.append(len(i))\n",
    "    return ab\n",
    "\n",
    "sumof_list_index(['ab','abc','abcd'])"
   ]
  },
  {
   "cell_type": "code",
   "execution_count": 14,
   "metadata": {},
   "outputs": [
    {
     "data": {
      "text/plain": [
       "120"
      ]
     },
     "execution_count": 14,
     "metadata": {},
     "output_type": "execute_result"
    }
   ],
   "source": [
    "# Task 1, Answer 1.1...........\n",
    "\n",
    "def myreduce(a):\n",
    "    total=1\n",
    "    for i in a:\n",
    "        total*=i\n",
    "    return total\n",
    "\n",
    "myreduce([1,2,3,4,5])"
   ]
  },
  {
   "cell_type": "code",
   "execution_count": 18,
   "metadata": {},
   "outputs": [
    {
     "data": {
      "text/plain": [
       "['a', 'h', 'j', 'r']"
      ]
     },
     "execution_count": 18,
     "metadata": {},
     "output_type": "execute_result"
    }
   ],
   "source": [
    "# Task 1, Answer 1.2......\n",
    "\n",
    "def myfilter(a):\n",
    "    lb=[]\n",
    "    charc=['a','b','c','d','e','f','g','h','i','j','k','l','m','n','r','s']\n",
    "    for i in a:\n",
    "        if i in charc:\n",
    "            lb.append(i)\n",
    "    return lb\n",
    "    \n",
    "    \n",
    "list1=['a','v','h','ft','j','r','q','v']\n",
    "\n",
    "myfilter(list1)"
   ]
  },
  {
   "cell_type": "code",
   "execution_count": 24,
   "metadata": {},
   "outputs": [
    {
     "data": {
      "text/plain": [
       "['A', 'C', 'A', 'D', 'G', 'I', 'L', 'D']"
      ]
     },
     "execution_count": 24,
     "metadata": {},
     "output_type": "execute_result"
    }
   ],
   "source": [
    "# Task 1, Answer 2.... First list\n",
    "\n",
    "list2='ACADGILD'\n",
    "\n",
    "[i for i in list2 ]\n",
    "\n"
   ]
  },
  {
   "cell_type": "code",
   "execution_count": 25,
   "metadata": {},
   "outputs": [
    {
     "data": {
      "text/plain": [
       "['X', 'XX', 'XXX', 'XXXX', 'Y', 'YY', 'YYY', 'YYYY', 'Z', 'ZZ', 'ZZZ', 'ZZZZ']"
      ]
     },
     "execution_count": 25,
     "metadata": {},
     "output_type": "execute_result"
    }
   ],
   "source": [
    "# Task 1, Answer 2.... second list\n",
    "\n",
    "list3='XYZ'\n",
    "\n",
    "[i*j for i in list3 for j in range(1,5)]"
   ]
  },
  {
   "cell_type": "code",
   "execution_count": 26,
   "metadata": {},
   "outputs": [
    {
     "data": {
      "text/plain": [
       "['X', 'Y', 'Z', 'XX', 'YY', 'ZZ', 'XX', 'YY', 'ZZ', 'XXXX', 'YYYY', 'ZZZZ']"
      ]
     },
     "execution_count": 26,
     "metadata": {},
     "output_type": "execute_result"
    }
   ],
   "source": [
    "# Task 1, Answer 2.... Third list\n",
    "\n",
    "list4='XYZ'\n",
    "\n",
    "[a*b*c for a in range(1,3) for b in range(1,3) for c in list4]"
   ]
  },
  {
   "cell_type": "code",
   "execution_count": 27,
   "metadata": {},
   "outputs": [
    {
     "data": {
      "text/plain": [
       "[[2], [3], [4], [3], [4], [5], [4], [5], [6]]"
      ]
     },
     "execution_count": 27,
     "metadata": {},
     "output_type": "execute_result"
    }
   ],
   "source": [
    "# Task 1, Answer 2.... Fourth list\n",
    "\n",
    "[[i+j] for i in range(2,5) for j in range(3)]"
   ]
  },
  {
   "cell_type": "code",
   "execution_count": 2,
   "metadata": {},
   "outputs": [
    {
     "data": {
      "text/plain": [
       "[(1, 1), (2, 1), (3, 1), (1, 2), (2, 2), (3, 2), (1, 3), (2, 3), (3, 3)]"
      ]
     },
     "execution_count": 2,
     "metadata": {},
     "output_type": "execute_result"
    }
   ],
   "source": [
    "# Task 1, Answer 2.... Sixth list\n",
    "\n",
    "list5=[1,2,3]\n",
    "\n",
    "[(j,i) for i in list5 for j in range(1,4)]"
   ]
  },
  {
   "cell_type": "code",
   "execution_count": 3,
   "metadata": {},
   "outputs": [
    {
     "data": {
      "text/plain": [
       "[[2, 3, 4, 5], [3, 4, 5, 6], [4, 5, 6, 7], [5, 6, 7, 8]]"
      ]
     },
     "execution_count": 3,
     "metadata": {},
     "output_type": "execute_result"
    }
   ],
   "source": [
    "# Task 1, Answer 2.... Fifth list\n",
    "\n",
    "list6=[2,3,4,5]\n",
    "\n",
    "[[i+j for i in list6] for j in range(4)]"
   ]
  },
  {
   "cell_type": "code",
   "execution_count": 5,
   "metadata": {},
   "outputs": [
    {
     "data": {
      "text/plain": [
       "['first', 'learning', 'Python']"
      ]
     },
     "execution_count": 5,
     "metadata": {},
     "output_type": "execute_result"
    }
   ],
   "source": [
    "# Task 2, Answer 1.2.... \n",
    "\n",
    "def filter_long_words(words,n):\n",
    "    filter1=words.split(' ')\n",
    "    list7=[]\n",
    "    for i in filter1:\n",
    "        if len(i) > n:\n",
    "            list7.append(i)\n",
    "    return list7\n",
    "\n",
    "filter_long_words('This is my first learning on Python',4)"
   ]
  },
  {
   "cell_type": "code",
   "execution_count": 18,
   "metadata": {},
   "outputs": [
    {
     "data": {
      "text/plain": [
       "'Rajinder'"
      ]
     },
     "execution_count": 18,
     "metadata": {},
     "output_type": "execute_result"
    }
   ],
   "source": [
    "# Task 2, Answer 3.... \n",
    "\n",
    "def longestword(str1):\n",
    "    set1=str1.split(' ')\n",
    "    return max(set1,key=len)\n",
    "\n",
    "longestword('My name is Rajinder Singh')"
   ]
  },
  {
   "cell_type": "code",
   "execution_count": 1,
   "metadata": {},
   "outputs": [
    {
     "name": "stdout",
     "output_type": "stream",
     "text": [
      "Enter First Number:  20\n",
      "Enter Second Number:  20\n",
      "Enter Third Number:  10\n",
      "96.82458365518542\n"
     ]
    }
   ],
   "source": [
    "# Task 2, Answer 1.1......\n",
    "\n",
    "class area1():\n",
    "    def __init__(self,a,b,c):\n",
    "        self.a=a\n",
    "        self.b=b\n",
    "        self.c=c\n",
    "    def cal_s(self):\n",
    "        return (self.a+self.b+self.c)/2\n",
    "\n",
    "a=int(input('Enter First Number:  '))\n",
    "b=int(input('Enter Second Number:  '))\n",
    "c=int(input('Enter Third Number:  '))\n",
    "\n",
    "cal=area1(a,b,c)\n",
    "s=cal.cal_s()\n",
    "\n",
    "class final_area(area1):\n",
    "    def cal_area(self):\n",
    "        return (s*(s-self.a)*(s-self.b)*(s-self.c))**0.5\n",
    "    \n",
    "cal2=final_area(a,b,c)\n",
    "print(cal2.cal_area())"
   ]
  },
  {
   "cell_type": "code",
   "execution_count": null,
   "metadata": {},
   "outputs": [],
   "source": []
  }
 ],
 "metadata": {
  "kernelspec": {
   "display_name": "Python 3",
   "language": "python",
   "name": "python3"
  },
  "language_info": {
   "codemirror_mode": {
    "name": "ipython",
    "version": 3
   },
   "file_extension": ".py",
   "mimetype": "text/x-python",
   "name": "python",
   "nbconvert_exporter": "python",
   "pygments_lexer": "ipython3",
   "version": "3.8.1"
  }
 },
 "nbformat": 4,
 "nbformat_minor": 4
}
